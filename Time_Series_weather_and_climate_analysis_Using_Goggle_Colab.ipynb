{
  "nbformat": 4,
  "nbformat_minor": 0,
  "metadata": {
    "colab": {
      "provenance": []
    },
    "kernelspec": {
      "name": "python3",
      "display_name": "Python 3"
    },
    "language_info": {
      "name": "python"
    }
  },
  "cells": [
    {
      "cell_type": "code",
      "source": [
        "! pip install pandas"
      ],
      "metadata": {
        "id": "VbzROV7IfZ5g",
        "colab": {
          "base_uri": "https://localhost:8080/"
        },
        "outputId": "d0d3fafe-6c98-4ced-c2da-5dcabc6ed6db"
      },
      "execution_count": null,
      "outputs": [
        {
          "output_type": "stream",
          "name": "stdout",
          "text": [
            "Requirement already satisfied: pandas in /usr/local/lib/python3.12/dist-packages (2.2.2)\n",
            "Requirement already satisfied: numpy>=1.26.0 in /usr/local/lib/python3.12/dist-packages (from pandas) (2.0.2)\n",
            "Requirement already satisfied: python-dateutil>=2.8.2 in /usr/local/lib/python3.12/dist-packages (from pandas) (2.9.0.post0)\n",
            "Requirement already satisfied: pytz>=2020.1 in /usr/local/lib/python3.12/dist-packages (from pandas) (2025.2)\n",
            "Requirement already satisfied: tzdata>=2022.7 in /usr/local/lib/python3.12/dist-packages (from pandas) (2025.2)\n",
            "Requirement already satisfied: six>=1.5 in /usr/local/lib/python3.12/dist-packages (from python-dateutil>=2.8.2->pandas) (1.17.0)\n"
          ]
        }
      ]
    },
    {
      "cell_type": "code",
      "source": [
        "import pandas as pd\n"
      ],
      "metadata": {
        "id": "NWYYVq53iE7C"
      },
      "execution_count": null,
      "outputs": []
    },
    {
      "cell_type": "code",
      "source": [
        "df = pd.read_csv(\"/content/combined_output_3.csv\")"
      ],
      "metadata": {
        "id": "ZOd8ZyYvSf7U"
      },
      "execution_count": null,
      "outputs": []
    },
    {
      "cell_type": "code",
      "source": [
        "df.head(10)"
      ],
      "metadata": {
        "colab": {
          "base_uri": "https://localhost:8080/",
          "height": 415
        },
        "id": "XL9FuZJPS2h0",
        "outputId": "69030bf6-98f0-4269-da74-5908abbcf71f"
      },
      "execution_count": null,
      "outputs": [
        {
          "output_type": "execute_result",
          "data": {
            "text/plain": [
              "   YEAR  MONTH  DAY  MERRA-2 Temperature at 2 Meters (C)   \\\n",
              "0  1990      1    1                                 27.65   \n",
              "1  1990      1    2                                 27.87   \n",
              "2  1990      1    3                                 27.79   \n",
              "3  1990      1    4                                 26.89   \n",
              "4  1990      1    5                                 27.76   \n",
              "5  1990      1    6                                 27.62   \n",
              "6  1990      1    7                                 27.54   \n",
              "7  1990      1    8                                 27.88   \n",
              "8  1990      1    9                                 28.14   \n",
              "9  1990      1   10                                 27.76   \n",
              "\n",
              "   MERRA-2 Temperature at 2 Meters Range (C)   \\\n",
              "0                                       17.71   \n",
              "1                                       17.19   \n",
              "2                                       17.03   \n",
              "3                                       18.41   \n",
              "4                                       18.21   \n",
              "5                                       15.62   \n",
              "6                                       15.73   \n",
              "7                                       16.22   \n",
              "8                                       16.01   \n",
              "9                                       17.90   \n",
              "\n",
              "   MERRA-2 Temperature at 2 Meters Maximum (C)   \\\n",
              "0                                         37.23   \n",
              "1                                         37.21   \n",
              "2                                         37.00   \n",
              "3                                         36.40   \n",
              "4                                         37.14   \n",
              "5                                         35.90   \n",
              "6                                         35.90   \n",
              "7                                         36.61   \n",
              "8                                         37.20   \n",
              "9                                         37.49   \n",
              "\n",
              "    MERRA-2 Temperature at 2 Meters Minimum (C)   \\\n",
              "0                                          19.51   \n",
              "1                                          20.01   \n",
              "2                                          19.96   \n",
              "3                                          17.99   \n",
              "4                                          18.94   \n",
              "5                                          20.28   \n",
              "6                                          20.16   \n",
              "7                                          20.39   \n",
              "8                                          21.19   \n",
              "9                                          19.58   \n",
              "\n",
              "   MERRA-2 Precipitation Corrected (mm/day)  \\\n",
              "0                                       0.0   \n",
              "1                                       0.0   \n",
              "2                                       0.0   \n",
              "3                                       0.0   \n",
              "4                                       0.0   \n",
              "5                                       0.0   \n",
              "6                                       0.0   \n",
              "7                                       0.0   \n",
              "8                                       0.0   \n",
              "9                                       0.0   \n",
              "\n",
              "   MERRA-2 Relative Humidity at 2 Meters (%)   \\\n",
              "0                                       19.00   \n",
              "1                                       19.12   \n",
              "2                                       15.50   \n",
              "3                                       19.50   \n",
              "4                                       20.50   \n",
              "5                                       21.19   \n",
              "6                                       18.81   \n",
              "7                                       17.94   \n",
              "8                                       19.44   \n",
              "9                                       15.62   \n",
              "\n",
              "   MERRA-2 Specific Humidity at 2 Meters (g/kg)   \\\n",
              "0                                           4.03   \n",
              "1                                           3.91   \n",
              "2                                           3.23   \n",
              "3                                           4.03   \n",
              "4                                           4.39   \n",
              "5                                           4.82   \n",
              "6                                           4.27   \n",
              "7                                           4.09   \n",
              "8                                           4.76   \n",
              "9                                           3.54   \n",
              "\n",
              "   MERRA-2 Wind Speed at 10 Meters (m/s)   Latitude Longitude  \n",
              "0                                    2.42     9.406    13.462  \n",
              "1                                    1.84     9.406    13.462  \n",
              "2                                    2.38     9.406    13.462  \n",
              "3                                    2.56     9.406    13.462  \n",
              "4                                    2.50     9.406    13.462  \n",
              "5                                    4.22     9.406    13.462  \n",
              "6                                    5.57     9.406    13.462  \n",
              "7                                    5.43     9.406    13.462  \n",
              "8                                    5.79     9.406    13.462  \n",
              "9                                    6.80     9.406    13.462  "
            ],
            "text/html": [
              "\n",
              "  <div id=\"df-49356f00-ac20-4e07-b5cf-d42d35dad3df\" class=\"colab-df-container\">\n",
              "    <div>\n",
              "<style scoped>\n",
              "    .dataframe tbody tr th:only-of-type {\n",
              "        vertical-align: middle;\n",
              "    }\n",
              "\n",
              "    .dataframe tbody tr th {\n",
              "        vertical-align: top;\n",
              "    }\n",
              "\n",
              "    .dataframe thead th {\n",
              "        text-align: right;\n",
              "    }\n",
              "</style>\n",
              "<table border=\"1\" class=\"dataframe\">\n",
              "  <thead>\n",
              "    <tr style=\"text-align: right;\">\n",
              "      <th></th>\n",
              "      <th>YEAR</th>\n",
              "      <th>MONTH</th>\n",
              "      <th>DAY</th>\n",
              "      <th>MERRA-2 Temperature at 2 Meters (C)</th>\n",
              "      <th>MERRA-2 Temperature at 2 Meters Range (C)</th>\n",
              "      <th>MERRA-2 Temperature at 2 Meters Maximum (C)</th>\n",
              "      <th>MERRA-2 Temperature at 2 Meters Minimum (C)</th>\n",
              "      <th>MERRA-2 Precipitation Corrected (mm/day)</th>\n",
              "      <th>MERRA-2 Relative Humidity at 2 Meters (%)</th>\n",
              "      <th>MERRA-2 Specific Humidity at 2 Meters (g/kg)</th>\n",
              "      <th>MERRA-2 Wind Speed at 10 Meters (m/s)</th>\n",
              "      <th>Latitude</th>\n",
              "      <th>Longitude</th>\n",
              "    </tr>\n",
              "  </thead>\n",
              "  <tbody>\n",
              "    <tr>\n",
              "      <th>0</th>\n",
              "      <td>1990</td>\n",
              "      <td>1</td>\n",
              "      <td>1</td>\n",
              "      <td>27.65</td>\n",
              "      <td>17.71</td>\n",
              "      <td>37.23</td>\n",
              "      <td>19.51</td>\n",
              "      <td>0.0</td>\n",
              "      <td>19.00</td>\n",
              "      <td>4.03</td>\n",
              "      <td>2.42</td>\n",
              "      <td>9.406</td>\n",
              "      <td>13.462</td>\n",
              "    </tr>\n",
              "    <tr>\n",
              "      <th>1</th>\n",
              "      <td>1990</td>\n",
              "      <td>1</td>\n",
              "      <td>2</td>\n",
              "      <td>27.87</td>\n",
              "      <td>17.19</td>\n",
              "      <td>37.21</td>\n",
              "      <td>20.01</td>\n",
              "      <td>0.0</td>\n",
              "      <td>19.12</td>\n",
              "      <td>3.91</td>\n",
              "      <td>1.84</td>\n",
              "      <td>9.406</td>\n",
              "      <td>13.462</td>\n",
              "    </tr>\n",
              "    <tr>\n",
              "      <th>2</th>\n",
              "      <td>1990</td>\n",
              "      <td>1</td>\n",
              "      <td>3</td>\n",
              "      <td>27.79</td>\n",
              "      <td>17.03</td>\n",
              "      <td>37.00</td>\n",
              "      <td>19.96</td>\n",
              "      <td>0.0</td>\n",
              "      <td>15.50</td>\n",
              "      <td>3.23</td>\n",
              "      <td>2.38</td>\n",
              "      <td>9.406</td>\n",
              "      <td>13.462</td>\n",
              "    </tr>\n",
              "    <tr>\n",
              "      <th>3</th>\n",
              "      <td>1990</td>\n",
              "      <td>1</td>\n",
              "      <td>4</td>\n",
              "      <td>26.89</td>\n",
              "      <td>18.41</td>\n",
              "      <td>36.40</td>\n",
              "      <td>17.99</td>\n",
              "      <td>0.0</td>\n",
              "      <td>19.50</td>\n",
              "      <td>4.03</td>\n",
              "      <td>2.56</td>\n",
              "      <td>9.406</td>\n",
              "      <td>13.462</td>\n",
              "    </tr>\n",
              "    <tr>\n",
              "      <th>4</th>\n",
              "      <td>1990</td>\n",
              "      <td>1</td>\n",
              "      <td>5</td>\n",
              "      <td>27.76</td>\n",
              "      <td>18.21</td>\n",
              "      <td>37.14</td>\n",
              "      <td>18.94</td>\n",
              "      <td>0.0</td>\n",
              "      <td>20.50</td>\n",
              "      <td>4.39</td>\n",
              "      <td>2.50</td>\n",
              "      <td>9.406</td>\n",
              "      <td>13.462</td>\n",
              "    </tr>\n",
              "    <tr>\n",
              "      <th>5</th>\n",
              "      <td>1990</td>\n",
              "      <td>1</td>\n",
              "      <td>6</td>\n",
              "      <td>27.62</td>\n",
              "      <td>15.62</td>\n",
              "      <td>35.90</td>\n",
              "      <td>20.28</td>\n",
              "      <td>0.0</td>\n",
              "      <td>21.19</td>\n",
              "      <td>4.82</td>\n",
              "      <td>4.22</td>\n",
              "      <td>9.406</td>\n",
              "      <td>13.462</td>\n",
              "    </tr>\n",
              "    <tr>\n",
              "      <th>6</th>\n",
              "      <td>1990</td>\n",
              "      <td>1</td>\n",
              "      <td>7</td>\n",
              "      <td>27.54</td>\n",
              "      <td>15.73</td>\n",
              "      <td>35.90</td>\n",
              "      <td>20.16</td>\n",
              "      <td>0.0</td>\n",
              "      <td>18.81</td>\n",
              "      <td>4.27</td>\n",
              "      <td>5.57</td>\n",
              "      <td>9.406</td>\n",
              "      <td>13.462</td>\n",
              "    </tr>\n",
              "    <tr>\n",
              "      <th>7</th>\n",
              "      <td>1990</td>\n",
              "      <td>1</td>\n",
              "      <td>8</td>\n",
              "      <td>27.88</td>\n",
              "      <td>16.22</td>\n",
              "      <td>36.61</td>\n",
              "      <td>20.39</td>\n",
              "      <td>0.0</td>\n",
              "      <td>17.94</td>\n",
              "      <td>4.09</td>\n",
              "      <td>5.43</td>\n",
              "      <td>9.406</td>\n",
              "      <td>13.462</td>\n",
              "    </tr>\n",
              "    <tr>\n",
              "      <th>8</th>\n",
              "      <td>1990</td>\n",
              "      <td>1</td>\n",
              "      <td>9</td>\n",
              "      <td>28.14</td>\n",
              "      <td>16.01</td>\n",
              "      <td>37.20</td>\n",
              "      <td>21.19</td>\n",
              "      <td>0.0</td>\n",
              "      <td>19.44</td>\n",
              "      <td>4.76</td>\n",
              "      <td>5.79</td>\n",
              "      <td>9.406</td>\n",
              "      <td>13.462</td>\n",
              "    </tr>\n",
              "    <tr>\n",
              "      <th>9</th>\n",
              "      <td>1990</td>\n",
              "      <td>1</td>\n",
              "      <td>10</td>\n",
              "      <td>27.76</td>\n",
              "      <td>17.90</td>\n",
              "      <td>37.49</td>\n",
              "      <td>19.58</td>\n",
              "      <td>0.0</td>\n",
              "      <td>15.62</td>\n",
              "      <td>3.54</td>\n",
              "      <td>6.80</td>\n",
              "      <td>9.406</td>\n",
              "      <td>13.462</td>\n",
              "    </tr>\n",
              "  </tbody>\n",
              "</table>\n",
              "</div>\n",
              "    <div class=\"colab-df-buttons\">\n",
              "\n",
              "  <div class=\"colab-df-container\">\n",
              "    <button class=\"colab-df-convert\" onclick=\"convertToInteractive('df-49356f00-ac20-4e07-b5cf-d42d35dad3df')\"\n",
              "            title=\"Convert this dataframe to an interactive table.\"\n",
              "            style=\"display:none;\">\n",
              "\n",
              "  <svg xmlns=\"http://www.w3.org/2000/svg\" height=\"24px\" viewBox=\"0 -960 960 960\">\n",
              "    <path d=\"M120-120v-720h720v720H120Zm60-500h600v-160H180v160Zm220 220h160v-160H400v160Zm0 220h160v-160H400v160ZM180-400h160v-160H180v160Zm440 0h160v-160H620v160ZM180-180h160v-160H180v160Zm440 0h160v-160H620v160Z\"/>\n",
              "  </svg>\n",
              "    </button>\n",
              "\n",
              "  <style>\n",
              "    .colab-df-container {\n",
              "      display:flex;\n",
              "      gap: 12px;\n",
              "    }\n",
              "\n",
              "    .colab-df-convert {\n",
              "      background-color: #E8F0FE;\n",
              "      border: none;\n",
              "      border-radius: 50%;\n",
              "      cursor: pointer;\n",
              "      display: none;\n",
              "      fill: #1967D2;\n",
              "      height: 32px;\n",
              "      padding: 0 0 0 0;\n",
              "      width: 32px;\n",
              "    }\n",
              "\n",
              "    .colab-df-convert:hover {\n",
              "      background-color: #E2EBFA;\n",
              "      box-shadow: 0px 1px 2px rgba(60, 64, 67, 0.3), 0px 1px 3px 1px rgba(60, 64, 67, 0.15);\n",
              "      fill: #174EA6;\n",
              "    }\n",
              "\n",
              "    .colab-df-buttons div {\n",
              "      margin-bottom: 4px;\n",
              "    }\n",
              "\n",
              "    [theme=dark] .colab-df-convert {\n",
              "      background-color: #3B4455;\n",
              "      fill: #D2E3FC;\n",
              "    }\n",
              "\n",
              "    [theme=dark] .colab-df-convert:hover {\n",
              "      background-color: #434B5C;\n",
              "      box-shadow: 0px 1px 3px 1px rgba(0, 0, 0, 0.15);\n",
              "      filter: drop-shadow(0px 1px 2px rgba(0, 0, 0, 0.3));\n",
              "      fill: #FFFFFF;\n",
              "    }\n",
              "  </style>\n",
              "\n",
              "    <script>\n",
              "      const buttonEl =\n",
              "        document.querySelector('#df-49356f00-ac20-4e07-b5cf-d42d35dad3df button.colab-df-convert');\n",
              "      buttonEl.style.display =\n",
              "        google.colab.kernel.accessAllowed ? 'block' : 'none';\n",
              "\n",
              "      async function convertToInteractive(key) {\n",
              "        const element = document.querySelector('#df-49356f00-ac20-4e07-b5cf-d42d35dad3df');\n",
              "        const dataTable =\n",
              "          await google.colab.kernel.invokeFunction('convertToInteractive',\n",
              "                                                    [key], {});\n",
              "        if (!dataTable) return;\n",
              "\n",
              "        const docLinkHtml = 'Like what you see? Visit the ' +\n",
              "          '<a target=\"_blank\" href=https://colab.research.google.com/notebooks/data_table.ipynb>data table notebook</a>'\n",
              "          + ' to learn more about interactive tables.';\n",
              "        element.innerHTML = '';\n",
              "        dataTable['output_type'] = 'display_data';\n",
              "        await google.colab.output.renderOutput(dataTable, element);\n",
              "        const docLink = document.createElement('div');\n",
              "        docLink.innerHTML = docLinkHtml;\n",
              "        element.appendChild(docLink);\n",
              "      }\n",
              "    </script>\n",
              "  </div>\n",
              "\n",
              "\n",
              "    <div id=\"df-ff502c18-090d-4dac-ba0b-b8a9849af58c\">\n",
              "      <button class=\"colab-df-quickchart\" onclick=\"quickchart('df-ff502c18-090d-4dac-ba0b-b8a9849af58c')\"\n",
              "                title=\"Suggest charts\"\n",
              "                style=\"display:none;\">\n",
              "\n",
              "<svg xmlns=\"http://www.w3.org/2000/svg\" height=\"24px\"viewBox=\"0 0 24 24\"\n",
              "     width=\"24px\">\n",
              "    <g>\n",
              "        <path d=\"M19 3H5c-1.1 0-2 .9-2 2v14c0 1.1.9 2 2 2h14c1.1 0 2-.9 2-2V5c0-1.1-.9-2-2-2zM9 17H7v-7h2v7zm4 0h-2V7h2v10zm4 0h-2v-4h2v4z\"/>\n",
              "    </g>\n",
              "</svg>\n",
              "      </button>\n",
              "\n",
              "<style>\n",
              "  .colab-df-quickchart {\n",
              "      --bg-color: #E8F0FE;\n",
              "      --fill-color: #1967D2;\n",
              "      --hover-bg-color: #E2EBFA;\n",
              "      --hover-fill-color: #174EA6;\n",
              "      --disabled-fill-color: #AAA;\n",
              "      --disabled-bg-color: #DDD;\n",
              "  }\n",
              "\n",
              "  [theme=dark] .colab-df-quickchart {\n",
              "      --bg-color: #3B4455;\n",
              "      --fill-color: #D2E3FC;\n",
              "      --hover-bg-color: #434B5C;\n",
              "      --hover-fill-color: #FFFFFF;\n",
              "      --disabled-bg-color: #3B4455;\n",
              "      --disabled-fill-color: #666;\n",
              "  }\n",
              "\n",
              "  .colab-df-quickchart {\n",
              "    background-color: var(--bg-color);\n",
              "    border: none;\n",
              "    border-radius: 50%;\n",
              "    cursor: pointer;\n",
              "    display: none;\n",
              "    fill: var(--fill-color);\n",
              "    height: 32px;\n",
              "    padding: 0;\n",
              "    width: 32px;\n",
              "  }\n",
              "\n",
              "  .colab-df-quickchart:hover {\n",
              "    background-color: var(--hover-bg-color);\n",
              "    box-shadow: 0 1px 2px rgba(60, 64, 67, 0.3), 0 1px 3px 1px rgba(60, 64, 67, 0.15);\n",
              "    fill: var(--button-hover-fill-color);\n",
              "  }\n",
              "\n",
              "  .colab-df-quickchart-complete:disabled,\n",
              "  .colab-df-quickchart-complete:disabled:hover {\n",
              "    background-color: var(--disabled-bg-color);\n",
              "    fill: var(--disabled-fill-color);\n",
              "    box-shadow: none;\n",
              "  }\n",
              "\n",
              "  .colab-df-spinner {\n",
              "    border: 2px solid var(--fill-color);\n",
              "    border-color: transparent;\n",
              "    border-bottom-color: var(--fill-color);\n",
              "    animation:\n",
              "      spin 1s steps(1) infinite;\n",
              "  }\n",
              "\n",
              "  @keyframes spin {\n",
              "    0% {\n",
              "      border-color: transparent;\n",
              "      border-bottom-color: var(--fill-color);\n",
              "      border-left-color: var(--fill-color);\n",
              "    }\n",
              "    20% {\n",
              "      border-color: transparent;\n",
              "      border-left-color: var(--fill-color);\n",
              "      border-top-color: var(--fill-color);\n",
              "    }\n",
              "    30% {\n",
              "      border-color: transparent;\n",
              "      border-left-color: var(--fill-color);\n",
              "      border-top-color: var(--fill-color);\n",
              "      border-right-color: var(--fill-color);\n",
              "    }\n",
              "    40% {\n",
              "      border-color: transparent;\n",
              "      border-right-color: var(--fill-color);\n",
              "      border-top-color: var(--fill-color);\n",
              "    }\n",
              "    60% {\n",
              "      border-color: transparent;\n",
              "      border-right-color: var(--fill-color);\n",
              "    }\n",
              "    80% {\n",
              "      border-color: transparent;\n",
              "      border-right-color: var(--fill-color);\n",
              "      border-bottom-color: var(--fill-color);\n",
              "    }\n",
              "    90% {\n",
              "      border-color: transparent;\n",
              "      border-bottom-color: var(--fill-color);\n",
              "    }\n",
              "  }\n",
              "</style>\n",
              "\n",
              "      <script>\n",
              "        async function quickchart(key) {\n",
              "          const quickchartButtonEl =\n",
              "            document.querySelector('#' + key + ' button');\n",
              "          quickchartButtonEl.disabled = true;  // To prevent multiple clicks.\n",
              "          quickchartButtonEl.classList.add('colab-df-spinner');\n",
              "          try {\n",
              "            const charts = await google.colab.kernel.invokeFunction(\n",
              "                'suggestCharts', [key], {});\n",
              "          } catch (error) {\n",
              "            console.error('Error during call to suggestCharts:', error);\n",
              "          }\n",
              "          quickchartButtonEl.classList.remove('colab-df-spinner');\n",
              "          quickchartButtonEl.classList.add('colab-df-quickchart-complete');\n",
              "        }\n",
              "        (() => {\n",
              "          let quickchartButtonEl =\n",
              "            document.querySelector('#df-ff502c18-090d-4dac-ba0b-b8a9849af58c button');\n",
              "          quickchartButtonEl.style.display =\n",
              "            google.colab.kernel.accessAllowed ? 'block' : 'none';\n",
              "        })();\n",
              "      </script>\n",
              "    </div>\n",
              "\n",
              "    </div>\n",
              "  </div>\n"
            ],
            "application/vnd.google.colaboratory.intrinsic+json": {
              "type": "dataframe",
              "variable_name": "df"
            }
          },
          "metadata": {},
          "execution_count": 57
        }
      ]
    },
    {
      "cell_type": "code",
      "source": [
        "df = pd.read_csv(\"/content/combined_output_3.csv\")"
      ],
      "metadata": {
        "id": "ctpeO7EEUPTW"
      },
      "execution_count": null,
      "outputs": []
    },
    {
      "cell_type": "code",
      "source": [
        "df[\"date\"] = pd.to_datetime(df[[\"YEAR\", \"MONTH\", \"DAY\"]])"
      ],
      "metadata": {
        "id": "7p1KW9PWVdA7"
      },
      "execution_count": null,
      "outputs": []
    },
    {
      "cell_type": "code",
      "source": [
        "df = df.rename(columns={\n",
        "    \"MERRA-2 Temperature at 2 Meters (C)\": \"temp_c\",\n",
        "    \"MERRA-2 Precipitation Corrected (mm/day)\": \"precip_mm\"\n",
        "})"
      ],
      "metadata": {
        "id": "uNYAIliiVpAz"
      },
      "execution_count": null,
      "outputs": []
    },
    {
      "cell_type": "code",
      "source": [
        "def plot_trend(x, y, label, ylabel):\n",
        "    slope, intercept, r, p, se = linregress(x, y)\n",
        "    print(f\"{label} trend: slope={slope:.3f}, p={p:.3f}, R²={r**2:.2f}\")\n",
        "\n",
        "    plt.figure(figsize=(8,5))\n",
        "    plt.scatter(x, y, color=\"blue\", label=\"Observed\")\n",
        "    plt.plot(x, intercept + slope*x, color=\"red\",\n",
        "             label=f\"Trend line (slope={slope:.3f})\")\n",
        "    plt.xlabel(\"Year\")\n",
        "    plt.ylabel(ylabel)\n",
        "    plt.title(f\"Trend in {label} (1990–2023)\")\n",
        "    plt.legend()\n",
        "    plt.grid(True, alpha=0.3)\n",
        "    plt.show()"
      ],
      "metadata": {
        "id": "_6dFxEPNXXPl"
      },
      "execution_count": null,
      "outputs": []
    },
    {
      "cell_type": "code",
      "source": [
        "df = pd.read_csv('/content/combined_output_3.csv')\n"
      ],
      "metadata": {
        "id": "P8hl3zYecXLu"
      },
      "execution_count": null,
      "outputs": []
    },
    {
      "cell_type": "code",
      "source": [
        "df['date'] = pd.to_datetime(df[['YEAR','MONTH','DAY']])\n",
        "df = df.sort_values('date').reset_index(drop=True)\n"
      ],
      "metadata": {
        "id": "1FnLmmNpcjY0"
      },
      "execution_count": null,
      "outputs": []
    },
    {
      "cell_type": "code",
      "source": [
        "def theil_sen_slope(y):\n",
        "    \"\"\"Median of all pairwise slopes → robust to outliers\"\"\"\n",
        "    n = len(y)\n",
        "    slopes = []\n",
        "    for i in range(n):\n",
        "        for j in range(i+1, n):\n",
        "            slopes.append((y[j] - y[i]) / (j - i))\n",
        "    return np.median(slopes)\n",
        "\n",
        "def mann_kendall(y):\n",
        "    \"\"\"Return Kendall S, variance, two-sided p-value\"\"\"\n",
        "    n = len(y)\n",
        "    s = 0\n",
        "    for k in range(n-1):\n",
        "        for j in range(k+1, n):\n",
        "            s += np.sign(y[j] - y[k])\n",
        "    var_s = n*(n-1)*(2*n+5)/18\n",
        "    if s > 0:      z = (s - 1)/np.sqrt(var_s)\n",
        "    elif s < 0:    z = (s + 1)/np.sqrt(var_s)\n",
        "    else:          z = 0\n",
        "    p = 2*(1 - norm.cdf(abs(z)))\n",
        "    return s, var_s, p"
      ],
      "metadata": {
        "id": "TDSVGsxqcp-B"
      },
      "execution_count": null,
      "outputs": []
    },
    {
      "cell_type": "code",
      "source": [
        "def trend_pandas(series, alpha=0.05):\n",
        "    \"\"\"\n",
        "    series : pandas Series with DatetimeIndex\n",
        "    returns: dict with slope (per year), intercept, mk_p, trend_flag\n",
        "    \"\"\"\n",
        "    y = series.dropna().values\n",
        "    x = np.arange(len(y))                      # 0,1,2,…\n",
        "    slope_per_step = theil_sen_slope(y)\n",
        "    intercept      = np.median(y - slope_per_step*x)\n",
        "\n",
        "    # convert slope → “per year”\n",
        "    dt_years = (series.index[-1] - series.index[0]).days / 365.25\n",
        "    slope_per_year = slope_per_step * (len(y)-1) / dt_years\n",
        "\n",
        "    _, _, mk_p = mann_kendall(y)\n",
        "    trend_flag = 0\n",
        "    if mk_p < alpha:\n",
        "        trend_flag = 1 if slope_per_year > 0 else -1\n",
        "\n",
        "    return {'slope_per_year': slope_per_year,\n",
        "            'intercept'     : intercept,\n",
        "            'mk_p'          : mk_p,\n",
        "            'trend_flag'    : trend_flag}   # +1 up, -1 down, 0 none"
      ],
      "metadata": {
        "id": "9VU2oxpccyiF"
      },
      "execution_count": null,
      "outputs": []
    },
    {
      "cell_type": "code",
      "metadata": {
        "id": "2006ff2b"
      },
      "source": [
        "import numpy as np"
      ],
      "execution_count": null,
      "outputs": []
    },
    {
      "cell_type": "code",
      "source": [
        "import pandas as pd"
      ],
      "metadata": {
        "id": "bx1WwZdpfr2A"
      },
      "execution_count": null,
      "outputs": []
    },
    {
      "cell_type": "code",
      "source": [
        "df = pd.read_csv('/content/combined_output_3.csv')\n"
      ],
      "metadata": {
        "id": "_-I4qxF_fsuz"
      },
      "execution_count": null,
      "outputs": []
    },
    {
      "cell_type": "code",
      "source": [
        "!pip install -q pymannkendall   # for MK p-value"
      ],
      "metadata": {
        "id": "8XK52oh9f-Yv"
      },
      "execution_count": null,
      "outputs": []
    },
    {
      "cell_type": "code",
      "source": [
        "import pandas as pd\n",
        "import numpy as np\n",
        "from scipy.stats import rankdata, norm   # for MK test"
      ],
      "metadata": {
        "id": "-LAoWsfNgOPI"
      },
      "execution_count": null,
      "outputs": []
    },
    {
      "cell_type": "code",
      "source": [
        "import matplotlib.pyplot as plt\n",
        "plt.style.use('seaborn-v0_8-whitegrid')\n",
        "\n",
        "annual = ts.resample('Y').mean()\n",
        "trend  = out['intercept'] + out['slope_per_year']*(annual.index.year - annual.index.year[0])\n",
        "\n",
        "plt.figure(figsize=(8,3))\n",
        "plt.plot(annual.index, annual, label='annual mean', lw=1.2)\n",
        "plt.plot(annual.index, trend, label=f'trend = {out[\"slope_per_year\"]:.3f} mm day⁻¹ yr⁻¹', ls='--')\n",
        "plt.title(f'Trend analysis – {col}')\n",
        "plt.legend(); plt.show()"
      ],
      "metadata": {
        "colab": {
          "base_uri": "https://localhost:8080/",
          "height": 245
        },
        "id": "IBCTwR8gggcz",
        "outputId": "90fe1cca-ec52-4db3-fae0-c1eb195455ae"
      },
      "execution_count": null,
      "outputs": [
        {
          "output_type": "stream",
          "name": "stderr",
          "text": [
            "/tmp/ipython-input-607845147.py:4: FutureWarning: 'Y' is deprecated and will be removed in a future version, please use 'YE' instead.\n",
            "  annual = ts.resample('Y').mean()\n"
          ]
        },
        {
          "output_type": "error",
          "ename": "NameError",
          "evalue": "name 'out' is not defined",
          "traceback": [
            "\u001b[0;31m---------------------------------------------------------------------------\u001b[0m",
            "\u001b[0;31mNameError\u001b[0m                                 Traceback (most recent call last)",
            "\u001b[0;32m/tmp/ipython-input-607845147.py\u001b[0m in \u001b[0;36m<cell line: 0>\u001b[0;34m()\u001b[0m\n\u001b[1;32m      3\u001b[0m \u001b[0;34m\u001b[0m\u001b[0m\n\u001b[1;32m      4\u001b[0m \u001b[0mannual\u001b[0m \u001b[0;34m=\u001b[0m \u001b[0mts\u001b[0m\u001b[0;34m.\u001b[0m\u001b[0mresample\u001b[0m\u001b[0;34m(\u001b[0m\u001b[0;34m'Y'\u001b[0m\u001b[0;34m)\u001b[0m\u001b[0;34m.\u001b[0m\u001b[0mmean\u001b[0m\u001b[0;34m(\u001b[0m\u001b[0;34m)\u001b[0m\u001b[0;34m\u001b[0m\u001b[0;34m\u001b[0m\u001b[0m\n\u001b[0;32m----> 5\u001b[0;31m \u001b[0mtrend\u001b[0m  \u001b[0;34m=\u001b[0m \u001b[0mout\u001b[0m\u001b[0;34m[\u001b[0m\u001b[0;34m'intercept'\u001b[0m\u001b[0;34m]\u001b[0m \u001b[0;34m+\u001b[0m \u001b[0mout\u001b[0m\u001b[0;34m[\u001b[0m\u001b[0;34m'slope_per_year'\u001b[0m\u001b[0;34m]\u001b[0m\u001b[0;34m*\u001b[0m\u001b[0;34m(\u001b[0m\u001b[0mannual\u001b[0m\u001b[0;34m.\u001b[0m\u001b[0mindex\u001b[0m\u001b[0;34m.\u001b[0m\u001b[0myear\u001b[0m \u001b[0;34m-\u001b[0m \u001b[0mannual\u001b[0m\u001b[0;34m.\u001b[0m\u001b[0mindex\u001b[0m\u001b[0;34m.\u001b[0m\u001b[0myear\u001b[0m\u001b[0;34m[\u001b[0m\u001b[0;36m0\u001b[0m\u001b[0;34m]\u001b[0m\u001b[0;34m)\u001b[0m\u001b[0;34m\u001b[0m\u001b[0;34m\u001b[0m\u001b[0m\n\u001b[0m\u001b[1;32m      6\u001b[0m \u001b[0;34m\u001b[0m\u001b[0m\n\u001b[1;32m      7\u001b[0m \u001b[0mplt\u001b[0m\u001b[0;34m.\u001b[0m\u001b[0mfigure\u001b[0m\u001b[0;34m(\u001b[0m\u001b[0mfigsize\u001b[0m\u001b[0;34m=\u001b[0m\u001b[0;34m(\u001b[0m\u001b[0;36m8\u001b[0m\u001b[0;34m,\u001b[0m\u001b[0;36m3\u001b[0m\u001b[0;34m)\u001b[0m\u001b[0;34m)\u001b[0m\u001b[0;34m\u001b[0m\u001b[0;34m\u001b[0m\u001b[0m\n",
            "\u001b[0;31mNameError\u001b[0m: name 'out' is not defined"
          ]
        }
      ]
    },
    {
      "cell_type": "code",
      "metadata": {
        "id": "fc0ea2cc"
      },
      "source": [
        "df['date'] = pd.to_datetime(df[['YEAR','MONTH','DAY']])\n",
        "df = df.set_index('date')\n",
        "\n",
        "# Select a column to create the time series (e.g., precipitation)\n",
        "col = 'MERRA-2 Precipitation Corrected (mm/day)'\n",
        "ts = df[col]"
      ],
      "execution_count": null,
      "outputs": []
    },
    {
      "cell_type": "code",
      "source": [
        "import pandas as pd\n",
        "import matplotlib.pyplot as plt\n",
        "from scipy.stats import linregress"
      ],
      "metadata": {
        "id": "zWkofECChwYi"
      },
      "execution_count": null,
      "outputs": []
    },
    {
      "cell_type": "code",
      "source": [
        "df = pd.read_csv(\"combined_output_3.csv\")"
      ],
      "metadata": {
        "id": "BI4qg9nkh1XH"
      },
      "execution_count": null,
      "outputs": []
    },
    {
      "cell_type": "code",
      "source": [
        "df[\"date\"] = pd.to_datetime(df[[\"YEAR\", \"MONTH\", \"DAY\"]])"
      ],
      "metadata": {
        "id": "K5oeE6_Jh7DG"
      },
      "execution_count": null,
      "outputs": []
    },
    {
      "cell_type": "code",
      "source": [
        "df = df.rename(columns={\n",
        "    \"MERRA-2 Temperature at 2 Meters (C)\": \"temp_c\",\n",
        "    \"MERRA-2 Precipitation Corrected (mm/day)\": \"precip_mm\"\n",
        "})"
      ],
      "metadata": {
        "id": "G81ZUJt0iC21"
      },
      "execution_count": null,
      "outputs": []
    },
    {
      "cell_type": "code",
      "source": [
        "import pandas as pd\n",
        "import matplotlib.pyplot as plt\n",
        "\n"
      ],
      "metadata": {
        "id": "bl0OxQMTlm__"
      },
      "execution_count": null,
      "outputs": []
    },
    {
      "cell_type": "code",
      "source": [
        " df = pd.read_csv(\"/content/combined_output_3.csv\")"
      ],
      "metadata": {
        "id": "n9Hli-e6l6A_"
      },
      "execution_count": null,
      "outputs": []
    },
    {
      "cell_type": "code",
      "source": [
        "df['Date'] = pd.to_datetime(df[['YEAR', 'MONTH', 'DAY']])"
      ],
      "metadata": {
        "id": "CXZDbkj8mpmE"
      },
      "execution_count": null,
      "outputs": []
    },
    {
      "cell_type": "code",
      "source": [
        "df.set_index('Date', inplace=True)"
      ],
      "metadata": {
        "id": "WdDk8o0FmvxY"
      },
      "execution_count": null,
      "outputs": []
    },
    {
      "cell_type": "code",
      "source": [
        "df.columns = df.columns.str.strip()\n",
        "temperature_column = 'MERRA-2 Temperature at 2 Meters (C)'"
      ],
      "metadata": {
        "id": "RkVlwypZm4Ib"
      },
      "execution_count": null,
      "outputs": []
    },
    {
      "cell_type": "code",
      "source": [
        "if temperature_column not in df.columns:\n",
        "            print(f\"Error: Column '{temperature_column}' not found in the DataFrame.\")\n",
        "            print(\"Please check the column names in your CSV file.\")"
      ],
      "metadata": {
        "id": "mOHwsSWznFxQ"
      },
      "execution_count": null,
      "outputs": []
    },
    {
      "cell_type": "code",
      "source": [
        "rolling_mean_temp = df[temperature_column].rolling(window=365).mean()"
      ],
      "metadata": {
        "id": "0h4PT5BxncUk"
      },
      "execution_count": null,
      "outputs": []
    },
    {
      "cell_type": "code",
      "source": [
        "monthly_mean_temp = df[temperature_column].resample('M').mean()"
      ],
      "metadata": {
        "colab": {
          "base_uri": "https://localhost:8080/"
        },
        "id": "W8GmTyTZnlhm",
        "outputId": "bccf0093-1242-471c-e294-8c4aba56e1dc"
      },
      "execution_count": null,
      "outputs": [
        {
          "output_type": "stream",
          "name": "stderr",
          "text": [
            "/tmp/ipython-input-2150557448.py:1: FutureWarning: 'M' is deprecated and will be removed in a future version, please use 'ME' instead.\n",
            "  monthly_mean_temp = df[temperature_column].resample('M').mean()\n"
          ]
        }
      ]
    },
    {
      "cell_type": "code",
      "source": [
        "plt.style.use('seaborn-v0_8-whitegrid')\n",
        "plt.figure(figsize=(15, 7))"
      ],
      "metadata": {
        "colab": {
          "base_uri": "https://localhost:8080/",
          "height": 52
        },
        "id": "gvC2HaK3npRh",
        "outputId": "16cbc522-ba60-43d8-8139-ee4b084fbe56"
      },
      "execution_count": null,
      "outputs": [
        {
          "output_type": "execute_result",
          "data": {
            "text/plain": [
              "<Figure size 1500x700 with 0 Axes>"
            ]
          },
          "metadata": {},
          "execution_count": 49
        },
        {
          "output_type": "display_data",
          "data": {
            "text/plain": [
              "<Figure size 1500x700 with 0 Axes>"
            ]
          },
          "metadata": {}
        }
      ]
    },
    {
      "cell_type": "code",
      "source": [],
      "metadata": {
        "id": "76uSalJBn8vw"
      },
      "execution_count": null,
      "outputs": []
    },
    {
      "cell_type": "code",
      "metadata": {
        "colab": {
          "base_uri": "https://localhost:8080/",
          "height": 465
        },
        "id": "c1f480f3",
        "outputId": "ee5597cf-63ca-4506-f5da-38fd1ee82e82"
      },
      "source": [
        "plt.plot(rolling_mean_temp.index, rolling_mean_temp, label='365-Day Rolling Mean Temperature')\n",
        "plt.plot(monthly_mean_temp.index, monthly_mean_temp, label='Monthly Mean Temperature')\n",
        "plt.xlabel('Date')\n",
        "plt.ylabel('Temperature (°C)')\n",
        "plt.title('Temperature Trends Over Time')\n",
        "plt.legend()\n",
        "plt.show()"
      ],
      "execution_count": null,
      "outputs": [
        {
          "output_type": "display_data",
          "data": {
            "text/plain": [
              "<Figure size 640x480 with 1 Axes>"
            ],
            "image/png": "[encoded data removed]"
          },
          "metadata": {}
        }
      ]
    }
  ]
}